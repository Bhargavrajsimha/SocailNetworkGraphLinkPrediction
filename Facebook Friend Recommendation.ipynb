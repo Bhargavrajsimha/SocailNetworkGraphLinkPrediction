{
 "cells": [
  {
   "cell_type": "markdown",
   "id": "7e2ac443",
   "metadata": {},
   "source": [
    "<h2><b> Social network Graph Link Prediction</b></h2>"
   ]
  },
  {
   "cell_type": "code",
   "execution_count": 1,
   "id": "7f9537cd",
   "metadata": {},
   "outputs": [],
   "source": [
    "import os\n",
    "import warnings\n",
    "warnings.filterwarnings('ignore')\n",
    "import pandas as pd\n",
    "import numpy as np\n",
    "import matplotlib.pyplot as plt\n",
    "import seaborn as sns\n",
    "import networkx as ntx\n",
    "\n",
    "\n",
    "from sklearn.metrics import f1_score\n",
    "from pandas import read_hdf\n",
    "from xgboost import XGBClassifier\n",
    "from scipy.stats import randint as sp_randint\n",
    "from scipy.sparse.linalg import svds\n",
    "from sklearn.model_selection import RandomizedSearchCV\n",
    "from sklearn.metrics import confusion_matrix\n",
    "from sklearn.metrics import roc_curve, auc"
   ]
  },
  {
   "cell_type": "code",
   "execution_count": 2,
   "id": "fe482419",
   "metadata": {},
   "outputs": [
    {
     "name": "stdout",
     "output_type": "stream",
     "text": [
      "Requirement already satisfied: tables in /opt/conda/lib/python3.7/site-packages (3.6.1)\n",
      "Requirement already satisfied: numexpr>=2.6.2 in /opt/conda/lib/python3.7/site-packages (from tables) (2.7.3)\n",
      "Requirement already satisfied: numpy>=1.9.3 in /opt/conda/lib/python3.7/site-packages (from tables) (1.19.5)\n",
      "Note: you may need to restart the kernel to use updated packages.\n"
     ]
    }
   ],
   "source": [
    "pip install tables"
   ]
  },
  {
   "cell_type": "code",
   "execution_count": 19,
   "id": "ef7ef613",
   "metadata": {},
   "outputs": [
    {
     "name": "stdout",
     "output_type": "stream",
     "text": [
      "Requirement already satisfied: xgboost in /opt/conda/lib/python3.7/site-packages (1.4.2)\n",
      "Requirement already satisfied: numpy in /opt/conda/lib/python3.7/site-packages (from xgboost) (1.19.5)\n",
      "Requirement already satisfied: scipy in /opt/conda/lib/python3.7/site-packages (from xgboost) (1.6.3)\n",
      "Note: you may need to restart the kernel to use updated packages.\n"
     ]
    }
   ],
   "source": [
    "pip install xgboost"
   ]
  },
  {
   "cell_type": "code",
   "execution_count": 2,
   "id": "d359d1c1",
   "metadata": {},
   "outputs": [],
   "source": [
    "train_df = read_hdf('/home/goggi_bhargav/storage_sample_stage4.h5', 'train_df',mode='r')\n",
    "test_df = read_hdf('/home/goggi_bhargav/storage_sample_stage4.h5', 'test_df',mode='r')"
   ]
  },
  {
   "cell_type": "code",
   "execution_count": 3,
   "id": "e3c5f549",
   "metadata": {},
   "outputs": [
    {
     "data": {
      "text/plain": [
       "Index(['source_node', 'destination_node', 'indicator_link',\n",
       "       'jaccard_followers', 'jaccard_followees', 'cosine_followers',\n",
       "       'cosine_followees', 'num_followers_s', 'num_followees_s',\n",
       "       'num_followees_d', 'inter_followers', 'inter_followees', 'adar_index',\n",
       "       'follows_back', 'same_comp', 'shortest_path', 'weight_in', 'weight_out',\n",
       "       'weight_f1', 'weight_f2', 'weight_f3', 'weight_f4', 'page_rank_s',\n",
       "       'page_rank_d', 'katz_s', 'katz_d', 'hubs_s', 'hubs_d', 'authorities_s',\n",
       "       'authorities_d', 'svd_u_s_1', 'svd_u_s_2', 'svd_u_s_3', 'svd_u_s_4',\n",
       "       'svd_u_s_5', 'svd_u_s_6', 'svd_u_d_1', 'svd_u_d_2', 'svd_u_d_3',\n",
       "       'svd_u_d_4', 'svd_u_d_5', 'svd_u_d_6', 'svd_v_s_1', 'svd_v_s_2',\n",
       "       'svd_v_s_3', 'svd_v_s_4', 'svd_v_s_5', 'svd_v_s_6', 'svd_v_d_1',\n",
       "       'svd_v_d_2', 'svd_v_d_3', 'svd_v_d_4', 'svd_v_d_5', 'svd_v_d_6'],\n",
       "      dtype='object')"
      ]
     },
     "execution_count": 3,
     "metadata": {},
     "output_type": "execute_result"
    }
   ],
   "source": [
    "train_df.columns"
   ]
  },
  {
   "cell_type": "markdown",
   "id": "224425b1",
   "metadata": {},
   "source": [
    "Constructing graph from train data"
   ]
  },
  {
   "cell_type": "code",
   "execution_count": 4,
   "id": "2b85ea3b",
   "metadata": {},
   "outputs": [
    {
     "name": "stdout",
     "output_type": "stream",
     "text": [
      "Name: \n",
      "Type: DiGraph\n",
      "Number of nodes: 1780722\n",
      "Number of edges: 7550015\n",
      "Average in degree:   4.2399\n",
      "Average out degree:   4.2399\n"
     ]
    }
   ],
   "source": [
    "tr_graph=ntx.read_edgelist('/home/goggi_bhargav/train_pos_after_eda.csv',delimiter=',',create_using=ntx.DiGraph(),nodetype=int)\n",
    "print(ntx.info(tr_graph))"
   ]
  },
  {
   "cell_type": "markdown",
   "id": "2b9cea75",
   "metadata": {},
   "source": [
    "Getting target labels"
   ]
  },
  {
   "cell_type": "code",
   "execution_count": 5,
   "id": "b007134f",
   "metadata": {},
   "outputs": [],
   "source": [
    "y_train = train_df.indicator_link\n",
    "y_test = test_df.indicator_link"
   ]
  },
  {
   "cell_type": "markdown",
   "id": "63e48cc5",
   "metadata": {},
   "source": [
    "Adding features named preferential attachments with followers and followees"
   ]
  },
  {
   "cell_type": "code",
   "execution_count": 6,
   "id": "37551ce0",
   "metadata": {},
   "outputs": [],
   "source": [
    "def preferrential_attachment_for_followees(src,dst):\n",
    "    try:\n",
    "        if(len(set(tr_graph.successors(src)))==0 | len(set(tr_graph.successors(dst)))==0):\n",
    "            return 0\n",
    "        prefatt = (len(set(tr_graph.successors(src)))) * (len(set(tr_graph.successors(dst))))\n",
    "    except:\n",
    "        return 0\n",
    "    return prefatt"
   ]
  },
  {
   "cell_type": "code",
   "execution_count": 7,
   "id": "a544a242",
   "metadata": {},
   "outputs": [],
   "source": [
    "def preferrential_attachment_for_followers(src,dst):\n",
    "    try:\n",
    "        if(len(set(tr_graph.predecessors(src)))==0 | len(set(tr_graph.predecessors(dst)))==0):\n",
    "            return 0\n",
    "        prefatt = (len(set(tr_graph.predecessors(src)))) * (len(set(tr_graph.predecessors(dst))))\n",
    "    except:\n",
    "        return 0\n",
    "    return prefatt"
   ]
  },
  {
   "cell_type": "code",
   "execution_count": 8,
   "id": "e08e0d38",
   "metadata": {},
   "outputs": [],
   "source": [
    "# Refered this code from FB_Models and FB_featurization\n",
    "\n",
    "train_df['preferrential_attachment_for_followees'] = train_df.apply(lambda row:preferrential_attachment_for_followees(row['source_node'],row['destination_node']),axis=1)\n",
    "train_df['preferrential_attachment_for_followers'] = train_df.apply(lambda row:preferrential_attachment_for_followers(row['source_node'],row['destination_node']),axis=1)\n",
    "\n",
    "test_df['preferrential_attachment_for_followees'] = test_df.apply(lambda row:preferrential_attachment_for_followees(row['source_node'],row['destination_node']),axis=1)\n",
    "test_df['preferrential_attachment_for_followers'] = test_df.apply(lambda row:preferrential_attachment_for_followers(row['source_node'],row['destination_node']),axis=1)\n"
   ]
  },
  {
   "cell_type": "code",
   "execution_count": 9,
   "id": "bd8da2ea",
   "metadata": {},
   "outputs": [
    {
     "data": {
      "text/html": [
       "<div>\n",
       "<style scoped>\n",
       "    .dataframe tbody tr th:only-of-type {\n",
       "        vertical-align: middle;\n",
       "    }\n",
       "\n",
       "    .dataframe tbody tr th {\n",
       "        vertical-align: top;\n",
       "    }\n",
       "\n",
       "    .dataframe thead th {\n",
       "        text-align: right;\n",
       "    }\n",
       "</style>\n",
       "<table border=\"1\" class=\"dataframe\">\n",
       "  <thead>\n",
       "    <tr style=\"text-align: right;\">\n",
       "      <th></th>\n",
       "      <th>source_node</th>\n",
       "      <th>destination_node</th>\n",
       "      <th>indicator_link</th>\n",
       "      <th>jaccard_followers</th>\n",
       "      <th>jaccard_followees</th>\n",
       "      <th>cosine_followers</th>\n",
       "      <th>cosine_followees</th>\n",
       "      <th>num_followers_s</th>\n",
       "      <th>num_followees_s</th>\n",
       "      <th>num_followees_d</th>\n",
       "      <th>...</th>\n",
       "      <th>svd_v_s_5</th>\n",
       "      <th>svd_v_s_6</th>\n",
       "      <th>svd_v_d_1</th>\n",
       "      <th>svd_v_d_2</th>\n",
       "      <th>svd_v_d_3</th>\n",
       "      <th>svd_v_d_4</th>\n",
       "      <th>svd_v_d_5</th>\n",
       "      <th>svd_v_d_6</th>\n",
       "      <th>preferrential_attachment_for_followees</th>\n",
       "      <th>preferrential_attachment_for_followers</th>\n",
       "    </tr>\n",
       "  </thead>\n",
       "  <tbody>\n",
       "    <tr>\n",
       "      <th>0</th>\n",
       "      <td>273084</td>\n",
       "      <td>1505602</td>\n",
       "      <td>1</td>\n",
       "      <td>0</td>\n",
       "      <td>0.000000</td>\n",
       "      <td>0.000000</td>\n",
       "      <td>0.000000</td>\n",
       "      <td>6</td>\n",
       "      <td>15</td>\n",
       "      <td>8</td>\n",
       "      <td>...</td>\n",
       "      <td>8.108434e-13</td>\n",
       "      <td>1.719702e-14</td>\n",
       "      <td>-1.355368e-12</td>\n",
       "      <td>4.675307e-13</td>\n",
       "      <td>1.128591e-06</td>\n",
       "      <td>6.616550e-14</td>\n",
       "      <td>9.771077e-13</td>\n",
       "      <td>4.159752e-14</td>\n",
       "      <td>120</td>\n",
       "      <td>66</td>\n",
       "    </tr>\n",
       "    <tr>\n",
       "      <th>1</th>\n",
       "      <td>832016</td>\n",
       "      <td>1543415</td>\n",
       "      <td>1</td>\n",
       "      <td>0</td>\n",
       "      <td>0.187135</td>\n",
       "      <td>0.028382</td>\n",
       "      <td>0.343828</td>\n",
       "      <td>94</td>\n",
       "      <td>61</td>\n",
       "      <td>142</td>\n",
       "      <td>...</td>\n",
       "      <td>3.703479e-12</td>\n",
       "      <td>2.251737e-10</td>\n",
       "      <td>1.245101e-12</td>\n",
       "      <td>-1.636948e-10</td>\n",
       "      <td>-3.112650e-10</td>\n",
       "      <td>6.738902e-02</td>\n",
       "      <td>2.607801e-11</td>\n",
       "      <td>2.372904e-09</td>\n",
       "      <td>8662</td>\n",
       "      <td>1598</td>\n",
       "    </tr>\n",
       "    <tr>\n",
       "      <th>2</th>\n",
       "      <td>1325247</td>\n",
       "      <td>760242</td>\n",
       "      <td>1</td>\n",
       "      <td>0</td>\n",
       "      <td>0.369565</td>\n",
       "      <td>0.156957</td>\n",
       "      <td>0.566038</td>\n",
       "      <td>28</td>\n",
       "      <td>41</td>\n",
       "      <td>22</td>\n",
       "      <td>...</td>\n",
       "      <td>1.940403e-19</td>\n",
       "      <td>-3.365389e-19</td>\n",
       "      <td>-1.238370e-18</td>\n",
       "      <td>1.438175e-19</td>\n",
       "      <td>-1.852863e-19</td>\n",
       "      <td>-5.901864e-19</td>\n",
       "      <td>1.629341e-19</td>\n",
       "      <td>-2.572452e-19</td>\n",
       "      <td>902</td>\n",
       "      <td>980</td>\n",
       "    </tr>\n",
       "    <tr>\n",
       "      <th>3</th>\n",
       "      <td>1368400</td>\n",
       "      <td>1006992</td>\n",
       "      <td>1</td>\n",
       "      <td>0</td>\n",
       "      <td>0.000000</td>\n",
       "      <td>0.000000</td>\n",
       "      <td>0.000000</td>\n",
       "      <td>11</td>\n",
       "      <td>5</td>\n",
       "      <td>7</td>\n",
       "      <td>...</td>\n",
       "      <td>1.513483e-12</td>\n",
       "      <td>4.498061e-13</td>\n",
       "      <td>-9.818087e-10</td>\n",
       "      <td>3.454672e-11</td>\n",
       "      <td>5.213635e-08</td>\n",
       "      <td>9.595823e-13</td>\n",
       "      <td>3.047045e-10</td>\n",
       "      <td>1.246592e-13</td>\n",
       "      <td>35</td>\n",
       "      <td>22</td>\n",
       "    </tr>\n",
       "    <tr>\n",
       "      <th>4</th>\n",
       "      <td>140165</td>\n",
       "      <td>1708748</td>\n",
       "      <td>1</td>\n",
       "      <td>0</td>\n",
       "      <td>0.000000</td>\n",
       "      <td>0.000000</td>\n",
       "      <td>0.000000</td>\n",
       "      <td>1</td>\n",
       "      <td>11</td>\n",
       "      <td>3</td>\n",
       "      <td>...</td>\n",
       "      <td>3.360247e-13</td>\n",
       "      <td>1.407670e-14</td>\n",
       "      <td>0.000000e+00</td>\n",
       "      <td>0.000000e+00</td>\n",
       "      <td>0.000000e+00</td>\n",
       "      <td>0.000000e+00</td>\n",
       "      <td>0.000000e+00</td>\n",
       "      <td>0.000000e+00</td>\n",
       "      <td>33</td>\n",
       "      <td>5</td>\n",
       "    </tr>\n",
       "  </tbody>\n",
       "</table>\n",
       "<p>5 rows × 56 columns</p>\n",
       "</div>"
      ],
      "text/plain": [
       "   source_node  destination_node  indicator_link  jaccard_followers  \\\n",
       "0       273084           1505602               1                  0   \n",
       "1       832016           1543415               1                  0   \n",
       "2      1325247            760242               1                  0   \n",
       "3      1368400           1006992               1                  0   \n",
       "4       140165           1708748               1                  0   \n",
       "\n",
       "   jaccard_followees  cosine_followers  cosine_followees  num_followers_s  \\\n",
       "0           0.000000          0.000000          0.000000                6   \n",
       "1           0.187135          0.028382          0.343828               94   \n",
       "2           0.369565          0.156957          0.566038               28   \n",
       "3           0.000000          0.000000          0.000000               11   \n",
       "4           0.000000          0.000000          0.000000                1   \n",
       "\n",
       "   num_followees_s  num_followees_d  ...     svd_v_s_5     svd_v_s_6  \\\n",
       "0               15                8  ...  8.108434e-13  1.719702e-14   \n",
       "1               61              142  ...  3.703479e-12  2.251737e-10   \n",
       "2               41               22  ...  1.940403e-19 -3.365389e-19   \n",
       "3                5                7  ...  1.513483e-12  4.498061e-13   \n",
       "4               11                3  ...  3.360247e-13  1.407670e-14   \n",
       "\n",
       "      svd_v_d_1     svd_v_d_2     svd_v_d_3     svd_v_d_4     svd_v_d_5  \\\n",
       "0 -1.355368e-12  4.675307e-13  1.128591e-06  6.616550e-14  9.771077e-13   \n",
       "1  1.245101e-12 -1.636948e-10 -3.112650e-10  6.738902e-02  2.607801e-11   \n",
       "2 -1.238370e-18  1.438175e-19 -1.852863e-19 -5.901864e-19  1.629341e-19   \n",
       "3 -9.818087e-10  3.454672e-11  5.213635e-08  9.595823e-13  3.047045e-10   \n",
       "4  0.000000e+00  0.000000e+00  0.000000e+00  0.000000e+00  0.000000e+00   \n",
       "\n",
       "      svd_v_d_6  preferrential_attachment_for_followees  \\\n",
       "0  4.159752e-14                                     120   \n",
       "1  2.372904e-09                                    8662   \n",
       "2 -2.572452e-19                                     902   \n",
       "3  1.246592e-13                                      35   \n",
       "4  0.000000e+00                                      33   \n",
       "\n",
       "   preferrential_attachment_for_followers  \n",
       "0                                      66  \n",
       "1                                    1598  \n",
       "2                                     980  \n",
       "3                                      22  \n",
       "4                                       5  \n",
       "\n",
       "[5 rows x 56 columns]"
      ]
     },
     "execution_count": 9,
     "metadata": {},
     "output_type": "execute_result"
    }
   ],
   "source": [
    "train_df.head()\n",
    "#print('\\n----------------------------\\n')\n",
    "#print(test_df.head())"
   ]
  },
  {
   "cell_type": "markdown",
   "id": "bd74f98d",
   "metadata": {},
   "source": [
    "Computing SVD features for source and destination"
   ]
  },
  {
   "cell_type": "code",
   "execution_count": 10,
   "id": "8623595b",
   "metadata": {},
   "outputs": [],
   "source": [
    "#Reference: This snippet of code has been taken from reference notebooks\n",
    "\n",
    "def svd(x, S):\n",
    "    try:\n",
    "        z = sadj_dict[x]\n",
    "        return S[z]\n",
    "    except:\n",
    "        return [0,0,0,0,0,0]"
   ]
  },
  {
   "cell_type": "code",
   "execution_count": 11,
   "id": "a88aa228",
   "metadata": {},
   "outputs": [],
   "source": [
    "sadj_col = sorted(tr_graph.nodes())\n",
    "sadj_dict = { val:idx for idx,val in enumerate(sadj_col)}"
   ]
  },
  {
   "cell_type": "code",
   "execution_count": 12,
   "id": "3ff967ac",
   "metadata": {},
   "outputs": [],
   "source": [
    "Adj = ntx.adjacency_matrix(tr_graph,nodelist=sorted(tr_graph.nodes())).asfptype()"
   ]
  },
  {
   "cell_type": "code",
   "execution_count": 13,
   "id": "5bbeffce",
   "metadata": {},
   "outputs": [
    {
     "name": "stdout",
     "output_type": "stream",
     "text": [
      "Adjacency matrix Shape (1780722, 1780722)\n",
      "U Shape (1780722, 6)\n",
      "V Shape (6, 1780722)\n",
      "s Shape (6,)\n"
     ]
    }
   ],
   "source": [
    "U, s, V = svds(Adj, k = 6)\n",
    "print('Adjacency matrix Shape',Adj.shape)\n",
    "print('U Shape',U.shape)\n",
    "print('V Shape',V.shape)\n",
    "print('s Shape',s.shape)"
   ]
  },
  {
   "cell_type": "code",
   "execution_count": 15,
   "id": "00fa75a7",
   "metadata": {},
   "outputs": [],
   "source": [
    "train_df['src_svd_dot'] = train_df.apply(lambda row: np.dot(np.array(svd(row['source_node'],U)),np.array(svd(row['destination_node'],U))),axis=1) \n",
    "train_df['dest_svd_dot'] = train_df.apply(lambda row: np.dot(np.array(svd(row['source_node'],V.T)),np.array(svd(row['destination_node'],V.T))),axis=1) \n",
    "\n",
    "test_df['src_svd_dot'] = test_df.apply(lambda row: np.dot(np.array(svd(row['source_node'],U)),np.array(svd(row['destination_node'],U))),axis=1)\n",
    "test_df['dest_svd_dot'] = test_df.apply(lambda row: np.dot(np.array(svd(row['source_node'],V.T)),np.array(svd(row['destination_node'],V.T))),axis=1)"
   ]
  },
  {
   "cell_type": "markdown",
   "id": "a4bc86db",
   "metadata": {},
   "source": [
    "Creating final train and test data by dropping source node, destination node and indicator link"
   ]
  },
  {
   "cell_type": "code",
   "execution_count": 16,
   "id": "c8c08fc6",
   "metadata": {},
   "outputs": [],
   "source": [
    "X_train = train_df.drop(['source_node','destination_node','indicator_link'],axis=1)\n",
    "X_test = test_df.drop(['source_node','destination_node','indicator_link'],axis=1)"
   ]
  },
  {
   "cell_type": "code",
   "execution_count": 17,
   "id": "6bf030a8",
   "metadata": {},
   "outputs": [
    {
     "name": "stdout",
     "output_type": "stream",
     "text": [
      "(100002, 55)\n",
      "(100002,)\n",
      "(50002, 55)\n",
      "(50002,)\n"
     ]
    }
   ],
   "source": [
    "print(X_train.shape)\n",
    "print(y_train.shape)\n",
    "print(X_test.shape)\n",
    "print(y_test.shape)"
   ]
  },
  {
   "cell_type": "markdown",
   "id": "c6e06e44",
   "metadata": {},
   "source": [
    "Hyper parameter tuning for XGBoost with all the features"
   ]
  },
  {
   "cell_type": "code",
   "execution_count": 27,
   "id": "8a6ee45c",
   "metadata": {},
   "outputs": [
    {
     "name": "stdout",
     "output_type": "stream",
     "text": [
      "Time taken for tuning hyper parameters 0:07:53.290832\n"
     ]
    }
   ],
   "source": [
    "#Reference: https://xgboost.readthedocs.io/en/latest/python/python_api.html\n",
    "import datetime\n",
    "start = datetime.datetime.now()\n",
    "params = {\n",
    "    \"n_estimators\": sp_randint(105,125),\n",
    "    \"max_depth\": [1,3,5,7,9],\n",
    "    \"learning_rate\": [0.001,0.01,0.1,0.2,0.3],\n",
    "    \"colsample_bytree\": [0.2,0.4,0.6,0.8,1.0]\n",
    "}\n",
    "\n",
    "xgbclf = XGBClassifier(objective='binary:logistic',eval_metric='logloss')\n",
    "ransrch = RandomizedSearchCV(xgbclf,params,cv=3,scoring='f1',n_iter=20,return_train_score=True)\n",
    "ransrch.fit(X_train,y_train)\n",
    "print(\"Time taken for tuning hyper parameters\",datetime.datetime.now()-start)"
   ]
  },
  {
   "cell_type": "markdown",
   "id": "e612f9a1",
   "metadata": {},
   "source": [
    "Obtaining the best hyper parameters"
   ]
  },
  {
   "cell_type": "code",
   "execution_count": 19,
   "id": "f9f2819d",
   "metadata": {},
   "outputs": [
    {
     "data": {
      "text/plain": [
       "{'colsample_bytree': 1.0,\n",
       " 'learning_rate': 0.3,\n",
       " 'max_depth': 9,\n",
       " 'n_estimators': 121}"
      ]
     },
     "execution_count": 19,
     "metadata": {},
     "output_type": "execute_result"
    }
   ],
   "source": [
    "ransrch.best_params_"
   ]
  },
  {
   "cell_type": "markdown",
   "id": "605317b0",
   "metadata": {},
   "source": [
    "Modelling with best parameters"
   ]
  },
  {
   "cell_type": "code",
   "execution_count": 20,
   "id": "a7d9e603",
   "metadata": {},
   "outputs": [
    {
     "name": "stdout",
     "output_type": "stream",
     "text": [
      "0:00:24.280522 Time was taken for modelling\n"
     ]
    }
   ],
   "source": [
    "start = datetime.datetime.now()\n",
    "optimal_xgbclf = XGBClassifier(n_estimators=ransrch.best_params_.get('n_estimators'),\n",
    "                              max_depth = ransrch.best_params_.get('param_max_depth'),\n",
    "                              learning_rate = ransrch.best_params_.get('param_learning_rate'),\n",
    "                              colsample_bytree = ransrch.best_params_.get('param_colsample_bytree'))\n",
    "\n",
    "optimal_xgbclf.fit(X_train,y_train,eval_metric='logloss')\n",
    "print(datetime.datetime.now()-start,'Time was taken for modelling')"
   ]
  },
  {
   "cell_type": "code",
   "execution_count": 21,
   "id": "23eb7bee",
   "metadata": {},
   "outputs": [
    {
     "name": "stdout",
     "output_type": "stream",
     "text": [
      "Train F1 Score= 0.9966677674041606\n",
      "Test F1 Score= 0.922525750111957\n"
     ]
    }
   ],
   "source": [
    "train_predict = optimal_xgbclf.predict(X_train)\n",
    "test_predict = optimal_xgbclf.predict(X_test)\n",
    "print(\"Train F1 Score=\",f1_score(y_train,train_predict))\n",
    "print(\"Test F1 Score=\",f1_score(y_test,test_predict))"
   ]
  },
  {
   "cell_type": "code",
   "execution_count": 22,
   "id": "8e22c8c5",
   "metadata": {},
   "outputs": [],
   "source": [
    "from sklearn.metrics import confusion_matrix\n",
    "def plot_confusion_matrix(test_y, predict_y):\n",
    "    C = confusion_matrix(test_y, predict_y)\n",
    "    \n",
    "    A =(((C.T)/(C.sum(axis=1))).T)\n",
    "    \n",
    "    B =(C/C.sum(axis=0))\n",
    "    plt.figure(figsize=(20,4))\n",
    "    \n",
    "    labels = [0,1]\n",
    "    # representing A in heatmap format\n",
    "    cmap=sns.light_palette(\"blue\")\n",
    "    plt.subplot(1, 3, 1)\n",
    "    sns.heatmap(C, annot=True, cmap=cmap, fmt=\".3f\", xticklabels=labels, yticklabels=labels)\n",
    "    plt.xlabel('Predicted Class')\n",
    "    plt.ylabel('Original Class')\n",
    "    plt.title(\"Confusion matrix\")\n",
    "    \n",
    "    plt.subplot(1, 3, 2)\n",
    "    sns.heatmap(B, annot=True, cmap=cmap, fmt=\".3f\", xticklabels=labels, yticklabels=labels)\n",
    "    plt.xlabel('Predicted Class')\n",
    "    plt.ylabel('Original Class')\n",
    "    plt.title(\"Precision matrix\")\n",
    "    \n",
    "    plt.subplot(1, 3, 3)\n",
    "    # representing B in heatmap format\n",
    "    sns.heatmap(A, annot=True, cmap=cmap, fmt=\".3f\", xticklabels=labels, yticklabels=labels)\n",
    "    plt.xlabel('Predicted Class')\n",
    "    plt.ylabel('Original Class')\n",
    "    plt.title(\"Recall matrix\")\n",
    "    \n",
    "    plt.show()"
   ]
  },
  {
   "cell_type": "code",
   "execution_count": 23,
   "id": "20f090a1",
   "metadata": {},
   "outputs": [
    {
     "name": "stdout",
     "output_type": "stream",
     "text": [
      "Train confusion_matrix\n"
     ]
    },
    {
     "data": {
      "image/png": "[encoded data removed]",
      "text/plain": [
       "<Figure size 1440x288 with 6 Axes>"
      ]
     },
     "metadata": {
      "needs_background": "light"
     },
     "output_type": "display_data"
    },
    {
     "name": "stdout",
     "output_type": "stream",
     "text": [
      "\n",
      "\n",
      "\n",
      "Test confusion_matrix\n"
     ]
    },
    {
     "data": {
      "image/png": "[encoded data removed]",
      "text/plain": [
       "<Figure size 1440x288 with 6 Axes>"
      ]
     },
     "metadata": {
      "needs_background": "light"
     },
     "output_type": "display_data"
    }
   ],
   "source": [
    "print('Train confusion_matrix')\n",
    "plot_confusion_matrix(y_train,train_predict)\n",
    "print(\"\\n\\n\")\n",
    "print('Test confusion_matrix')\n",
    "plot_confusion_matrix(y_test,test_predict)"
   ]
  },
  {
   "cell_type": "code",
   "execution_count": 24,
   "id": "24e84078",
   "metadata": {},
   "outputs": [
    {
     "data": {
      "image/png": "[encoded data removed]",
      "text/plain": [
       "<Figure size 432x288 with 1 Axes>"
      ]
     },
     "metadata": {
      "needs_background": "light"
     },
     "output_type": "display_data"
    }
   ],
   "source": [
    "from sklearn.metrics import roc_curve, auc\n",
    "fpr,tpr,ths = roc_curve(y_test,test_predict)\n",
    "auc_sc = auc(fpr, tpr)\n",
    "plt.plot(fpr, tpr, color='navy',label='ROC curve (area = %0.2f)' % auc_sc)\n",
    "plt.xlabel('False Positive Rate')\n",
    "plt.ylabel('True Positive Rate')\n",
    "plt.title('Receiver operating characteristic with test data')\n",
    "plt.legend()\n",
    "plt.show()"
   ]
  },
  {
   "cell_type": "code",
   "execution_count": 25,
   "id": "6018cb8b",
   "metadata": {},
   "outputs": [
    {
     "data": {
      "image/png": "[encoded data removed]",
      "text/plain": [
       "<Figure size 720x864 with 1 Axes>"
      ]
     },
     "metadata": {
      "needs_background": "light"
     },
     "output_type": "display_data"
    }
   ],
   "source": [
    "features = X_train.columns\n",
    "importances = optimal_xgbclf.feature_importances_\n",
    "indices = (np.argsort(importances))[-20:]\n",
    "plt.figure(figsize=(10,12))\n",
    "plt.title('Feature Importances')\n",
    "plt.barh(range(len(indices)), importances[indices], color='r', align='center')\n",
    "plt.yticks(range(len(indices)), [features[i] for i in indices])\n",
    "plt.xlabel('Relative Importance')\n",
    "plt.show()"
   ]
  },
  {
   "cell_type": "markdown",
   "id": "6ab24c18",
   "metadata": {},
   "source": [
    "<h3><b> Step by step procedure followed to solve this case study </b></h3>\n",
    "\n",
    "1. Created a graph, and obtained total number of nodes, edges from training data, where data consists of all positive points\n",
    "\n",
    "2. Till now we have obtained only positive datapoints. Now to obtain negative points, we will consider all missing edges as negative points.\n",
    "\n",
    "3. We, then splitted the data into train and test data.\n",
    "\n",
    "4. Then we have added few graph based features like PageRank, Jaccard distance, Cosine distance, Adar index, Katz centrality etc. \n",
    "\n",
    "5. We have also added two more features, preferrential_attachemnt and SVD_dot for both source and destination nodes in this particular assignment.\n",
    "\n",
    "6. Then we performed hyper parameter tuning for XGBoost using RandomizedSearchCV.\n",
    "\n",
    "7. Finally we plotted confusion matrix for train and test to visualize the results. Also we have plotted horizontal bar graph to visualize features which are important for prediction."
   ]
  },
  {
   "cell_type": "code",
   "execution_count": null,
   "id": "2edc65b0",
   "metadata": {},
   "outputs": [],
   "source": []
  }
 ],
 "metadata": {
  "kernelspec": {
   "display_name": "Python 3",
   "language": "python",
   "name": "python3"
  },
  "language_info": {
   "codemirror_mode": {
    "name": "ipython",
    "version": 3
   },
   "file_extension": ".py",
   "mimetype": "text/x-python",
   "name": "python",
   "nbconvert_exporter": "python",
   "pygments_lexer": "ipython3",
   "version": "3.7.10"
  }
 },
 "nbformat": 4,
 "nbformat_minor": 5
}
